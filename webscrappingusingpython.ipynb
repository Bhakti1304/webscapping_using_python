{
 "cells": [
  {
   "cell_type": "code",
   "execution_count": 57,
   "id": "21c99c64",
   "metadata": {},
   "outputs": [
    {
     "name": "stdout",
     "output_type": "stream",
     "text": [
      "Requirement already satisfied: selenium in c:\\users\\bhakt\\appdata\\local\\programs\\python\\python39\\lib\\site-packages (3.141.0)\n",
      "Requirement already satisfied: urllib3 in c:\\users\\bhakt\\appdata\\local\\programs\\python\\python39\\lib\\site-packages (from selenium) (1.26.4)Note: you may need to restart the kernel to use updated packages.\n",
      "\n"
     ]
    }
   ],
   "source": [
    "pip install selenium"
   ]
  },
  {
   "cell_type": "code",
   "execution_count": 58,
   "id": "0d7a0645",
   "metadata": {},
   "outputs": [
    {
     "name": "stdout",
     "output_type": "stream",
     "text": [
      "Requirement already satisfied: beautifulsoup4 in c:\\users\\bhakt\\appdata\\local\\programs\\python\\python39\\lib\\site-packages (4.9.3)\n",
      "Requirement already satisfied: soupsieve>1.2 in c:\\users\\bhakt\\appdata\\local\\programs\\python\\python39\\lib\\site-packages (from beautifulsoup4) (2.2.1)\n",
      "Note: you may need to restart the kernel to use updated packages.\n"
     ]
    }
   ],
   "source": [
    "pip install beautifulsoup4"
   ]
  },
  {
   "cell_type": "code",
   "execution_count": 59,
   "id": "f4ad09b6",
   "metadata": {},
   "outputs": [],
   "source": [
    "from selenium import webdriver\n",
    "from bs4 import BeautifulSoup\n",
    "import pandas as pd"
   ]
  },
  {
   "cell_type": "code",
   "execution_count": 60,
   "id": "3cff23c6",
   "metadata": {},
   "outputs": [],
   "source": [
    "PATH = \"C:/Users/bhakt/Downloads/chromedriver\""
   ]
  },
  {
   "cell_type": "code",
   "execution_count": 61,
   "id": "15aef4f4",
   "metadata": {},
   "outputs": [],
   "source": [
    "driver = webdriver.Chrome(PATH)\n",
    "driver.get(\"https://www.ajio.com/search/?text=shirt\")\n",
    "products=[] #List to store name of the product\n",
    "prices=[] #List to store price of the product\n",
    "# ratings=[] #List to store rating of the product\n",
    "# spacification = [] #List to store spacifications of the product\n"
   ]
  },
  {
   "cell_type": "code",
   "execution_count": 62,
   "id": "d8f8ceac",
   "metadata": {},
   "outputs": [],
   "source": [
    "content = driver.page_source\n",
    "soup = BeautifulSoup(content)"
   ]
  },
  {
   "cell_type": "code",
   "execution_count": 63,
   "id": "3b0c7015",
   "metadata": {},
   "outputs": [],
   "source": [
    "for element in soup.findAll('div', attrs={'class':'items'}):\n",
    "    name=element.find('div', attrs={'class':'name'})\n",
    "    price=element.find('span', attrs={'class':'price'})\n",
    "#     rating=element.find('div', attrs={'class':'_3LWZlK'})\n",
    "#     spacifications = element.find('div',attrs={'class':'fMghEO'})\n",
    "    try:\n",
    "        products.append(name.text)\n",
    "        prices.append(price.text)\n",
    "#         ratings.append(rating.text)\n",
    "#         spacification.append(spacifications.text)\n",
    "    except:\n",
    "        continue\n",
    "\n",
    "df = pd.DataFrame({'Product Name':products,'Prices':prices}) \n",
    "df.to_csv('prachi.csv', index=False, encoding='utf-8')"
   ]
  },
  {
   "cell_type": "code",
   "execution_count": 64,
   "id": "0d44870a",
   "metadata": {},
   "outputs": [
    {
     "data": {
      "text/html": [
       "<div>\n",
       "<style scoped>\n",
       "    .dataframe tbody tr th:only-of-type {\n",
       "        vertical-align: middle;\n",
       "    }\n",
       "\n",
       "    .dataframe tbody tr th {\n",
       "        vertical-align: top;\n",
       "    }\n",
       "\n",
       "    .dataframe thead th {\n",
       "        text-align: right;\n",
       "    }\n",
       "</style>\n",
       "<table border=\"1\" class=\"dataframe\">\n",
       "  <thead>\n",
       "    <tr style=\"text-align: right;\">\n",
       "      <th></th>\n",
       "      <th>Product Name</th>\n",
       "      <th>Prices</th>\n",
       "    </tr>\n",
       "  </thead>\n",
       "  <tbody>\n",
       "    <tr>\n",
       "      <th>0</th>\n",
       "      <td>Full Sleeves Slim Fit Classic Shirt</td>\n",
       "      <td>Rs. 573</td>\n",
       "    </tr>\n",
       "    <tr>\n",
       "      <th>1</th>\n",
       "      <td>Full Sleeves Slim Fit Classic Shirt</td>\n",
       "      <td>Rs. 573</td>\n",
       "    </tr>\n",
       "  </tbody>\n",
       "</table>\n",
       "</div>"
      ],
      "text/plain": [
       "                          Product Name   Prices\n",
       "0  Full Sleeves Slim Fit Classic Shirt  Rs. 573\n",
       "1  Full Sleeves Slim Fit Classic Shirt  Rs. 573"
      ]
     },
     "execution_count": 64,
     "metadata": {},
     "output_type": "execute_result"
    }
   ],
   "source": [
    "df.head()"
   ]
  },
  {
   "cell_type": "code",
   "execution_count": null,
   "id": "bc33267a",
   "metadata": {},
   "outputs": [],
   "source": []
  }
 ],
 "metadata": {
  "kernelspec": {
   "display_name": "Python 3 (ipykernel)",
   "language": "python",
   "name": "python3"
  },
  "language_info": {
   "codemirror_mode": {
    "name": "ipython",
    "version": 3
   },
   "file_extension": ".py",
   "mimetype": "text/x-python",
   "name": "python",
   "nbconvert_exporter": "python",
   "pygments_lexer": "ipython3",
   "version": "3.9.4"
  }
 },
 "nbformat": 4,
 "nbformat_minor": 5
}
